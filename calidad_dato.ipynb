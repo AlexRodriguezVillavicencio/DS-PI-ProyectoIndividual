{
 "cells": [
  {
   "cell_type": "code",
   "execution_count": 23,
   "metadata": {},
   "outputs": [],
   "source": [
    "import pandas as pd\n",
    "import os \n",
    "\n",
    "ruta = os.path.abspath('./Datasets')"
   ]
  },
  {
   "cell_type": "code",
   "execution_count": 24,
   "metadata": {},
   "outputs": [],
   "source": [
    "df_clientes = pd.read_csv(ruta+'/Clientes.csv', sep=';', encoding='utf-8', index_col=False)\n",
    "df_compra = pd.read_csv(ruta + '/Compra.csv', sep=',', encoding='utf-8')\n",
    "df_gasto = pd.read_csv(ruta + '/Gasto.csv', sep=',', encoding='utf-8')\n",
    "df_localidades = pd.read_csv(ruta + '/Localidades.csv', sep=',', encoding='utf-8')\n",
    "df_proveedores = pd.read_csv(ruta + '/Proveedores.csv', sep=',', encoding='latin-1')\n",
    "df_sucursales = pd.read_csv(ruta + '/Sucursales.csv', sep=';', encoding='utf-8')\n",
    "df_venta = pd.read_csv(ruta + '/Venta.csv', sep=',')"
   ]
  },
  {
   "cell_type": "markdown",
   "metadata": {},
   "source": [
    "## Análisis"
   ]
  },
  {
   "cell_type": "code",
   "execution_count": 327,
   "metadata": {},
   "outputs": [],
   "source": [
    "import matplotlib.pyplot as plt"
   ]
  },
  {
   "cell_type": "code",
   "execution_count": 26,
   "metadata": {},
   "outputs": [],
   "source": [
    "#retornando los valores nulos por columna\n",
    "def valor_nulo(e):\n",
    "    diccionario = {}\n",
    "    for column in e.columns:\n",
    "        val_nul = e[column].isna().sum()\n",
    "        diccionario[column] = int(val_nul)\n",
    "\n",
    "    return diccionario    "
   ]
  },
  {
   "cell_type": "code",
   "execution_count": 27,
   "metadata": {},
   "outputs": [],
   "source": [
    "#retornando los valores atipicos por columna\n",
    "def outlier(e):\n",
    "    diccionario ={}\n",
    "    for column in e.columns:\n",
    "        if e[column].dtype != 'object':\n",
    "            Q1 = e[column].describe()['25%']\n",
    "            Q3 = e[column].describe()['75%']\n",
    "\n",
    "            IQR = Q3 -Q1\n",
    "            minimo = Q1 - 1.5 * IQR\n",
    "            maximo = Q3 + 1.5 * IQR\n",
    "\n",
    "            upper =[e[column][i] for i in range(e.shape[0]) if e[column][i] >= maximo] \n",
    "            lower =[e[column][i] for i in range(e.shape[0]) if e[column][i] <= minimo] \n",
    "            outl = lower + upper\n",
    "            diccionario[column] = len(outl) \n",
    "    return diccionario"
   ]
  },
  {
   "cell_type": "code",
   "execution_count": 338,
   "metadata": {},
   "outputs": [],
   "source": [
    "#tranformando el dataframe\n",
    "def graficar_transformar(e):   \n",
    "    new =e.transpose()\n",
    "    new = new.rename(columns={0:'Valor'})\n",
    "\n",
    "    porcentaje = [round((new.Valor[i] / new.Valor.sum()) * 100,2) for i in range(new.shape[0])]\n",
    "    new['Porcentaje'] = porcentaje\n",
    "    graph = plt.bar(new.index,new.Porcentaje, color=['red','green','orange'])\n",
    "    plt.ylabel(\"Porcentaje\")\n",
    "\n",
    "    i = 0\n",
    "    for p in graph:\n",
    "        width = p.get_width()\n",
    "        x, y = p.get_xy()\n",
    "        plt.text(x+width/2,\n",
    "                 p.get_height() + 1,\n",
    "                 str(new.Porcentaje[i])+'%',\n",
    "                 ha='center')\n",
    "        i+=1\n",
    "    plt.ylim(0,max(new.Porcentaje) * 1.1 )\n",
    "    return new"
   ]
  },
  {
   "cell_type": "markdown",
   "metadata": {},
   "source": [
    "### tabla cliente"
   ]
  },
  {
   "cell_type": "code",
   "execution_count": 34,
   "metadata": {},
   "outputs": [],
   "source": [
    "clientes_outlier = outlier(df_clientes)\n",
    "clientes_valor_nulo = valor_nulo(df_clientes)"
   ]
  },
  {
   "cell_type": "code",
   "execution_count": 35,
   "metadata": {},
   "outputs": [
    {
     "name": "stdout",
     "output_type": "stream",
     "text": [
      "{}\n",
      "{'ID,Provincia,Nombre_y_Apellido,Domicilio,Telefono,Edad,Localidad,X,Y,col10,,,': 0}\n"
     ]
    }
   ],
   "source": [
    "print(clientes_outlier)\n",
    "print(clientes_valor_nulo)"
   ]
  },
  {
   "cell_type": "markdown",
   "metadata": {},
   "source": [
    "### tabla compra"
   ]
  },
  {
   "cell_type": "code",
   "execution_count": 31,
   "metadata": {},
   "outputs": [],
   "source": [
    "compra_outlier = outlier(df_compra)\n",
    "compra_valor_nulo = valor_nulo(df_compra)"
   ]
  },
  {
   "cell_type": "code",
   "execution_count": 33,
   "metadata": {},
   "outputs": [
    {
     "name": "stdout",
     "output_type": "stream",
     "text": [
      "{'IdCompra': 0, 'Fecha_Año': 0, 'Fecha_Mes': 0, 'Fecha_Periodo': 0, 'IdProducto': 0, 'Cantidad': 406, 'Precio': 599, 'IdProveedor': 0}\n",
      "{'IdCompra': 0, 'Fecha': 0, 'Fecha_Año': 0, 'Fecha_Mes': 0, 'Fecha_Periodo': 0, 'IdProducto': 0, 'Cantidad': 0, 'Precio': 367, 'IdProveedor': 0}\n"
     ]
    }
   ],
   "source": [
    "print(compra_outlier)\n",
    "print(compra_valor_nulo)"
   ]
  },
  {
   "cell_type": "markdown",
   "metadata": {},
   "source": [
    "### tabla gasto"
   ]
  },
  {
   "cell_type": "code",
   "execution_count": 36,
   "metadata": {},
   "outputs": [],
   "source": [
    "compra_outlier = outlier(df_compra)\n",
    "compra_valor_nulo = valor_nulo(df_compra)"
   ]
  },
  {
   "cell_type": "code",
   "execution_count": 37,
   "metadata": {},
   "outputs": [
    {
     "name": "stdout",
     "output_type": "stream",
     "text": [
      "{'IdCompra': 0, 'Fecha_Año': 0, 'Fecha_Mes': 0, 'Fecha_Periodo': 0, 'IdProducto': 0, 'Cantidad': 406, 'Precio': 599, 'IdProveedor': 0}\n",
      "{'IdCompra': 0, 'Fecha': 0, 'Fecha_Año': 0, 'Fecha_Mes': 0, 'Fecha_Periodo': 0, 'IdProducto': 0, 'Cantidad': 0, 'Precio': 367, 'IdProveedor': 0}\n"
     ]
    }
   ],
   "source": [
    "print(compra_outlier)\n",
    "print(compra_valor_nulo)"
   ]
  },
  {
   "cell_type": "markdown",
   "metadata": {},
   "source": [
    "### tabla localidades"
   ]
  },
  {
   "cell_type": "code",
   "execution_count": 38,
   "metadata": {},
   "outputs": [],
   "source": [
    "localidades_outlier = outlier(df_localidades)\n",
    "localidades_valor_nulo = valor_nulo(df_localidades)"
   ]
  },
  {
   "cell_type": "code",
   "execution_count": 39,
   "metadata": {},
   "outputs": [
    {
     "name": "stdout",
     "output_type": "stream",
     "text": [
      "{'centroide_lat': 70, 'centroide_lon': 0, 'departamento_id': 0, 'id': 0, 'localidad_censal_id': 0, 'municipio_id': 0, 'provincia_id': 0}\n",
      "{'categoria': 0, 'centroide_lat': 0, 'centroide_lon': 0, 'departamento_id': 1, 'departamento_nombre': 1, 'fuente': 0, 'id': 0, 'localidad_censal_id': 0, 'localidad_censal_nombre': 0, 'municipio_id': 543, 'municipio_nombre': 494, 'nombre': 0, 'provincia_id': 0, 'provincia_nombre': 0}\n"
     ]
    }
   ],
   "source": [
    "print(localidades_outlier)\n",
    "print(localidades_valor_nulo)"
   ]
  },
  {
   "cell_type": "markdown",
   "metadata": {},
   "source": [
    "### tabla proveedores"
   ]
  },
  {
   "cell_type": "code",
   "execution_count": 40,
   "metadata": {},
   "outputs": [],
   "source": [
    "proveedores_outlier = outlier(df_proveedores)\n",
    "proveedores_valor_nulo = valor_nulo(df_proveedores)"
   ]
  },
  {
   "cell_type": "code",
   "execution_count": 41,
   "metadata": {},
   "outputs": [
    {
     "name": "stdout",
     "output_type": "stream",
     "text": [
      "{'IDProveedor': 0}\n",
      "{'IDProveedor': 0, 'Nombre': 2, 'Address': 0, 'City': 0, 'State': 0, 'Country': 0, 'departamen': 0}\n"
     ]
    }
   ],
   "source": [
    "print(proveedores_outlier)\n",
    "print(proveedores_valor_nulo)"
   ]
  },
  {
   "cell_type": "markdown",
   "metadata": {},
   "source": [
    "### tabla sucursales"
   ]
  },
  {
   "cell_type": "code",
   "execution_count": 42,
   "metadata": {},
   "outputs": [],
   "source": [
    "sucursales_outlier = outlier(df_sucursales)\n",
    "sucursales_valor_nulo = valor_nulo(df_sucursales)"
   ]
  },
  {
   "cell_type": "code",
   "execution_count": 43,
   "metadata": {},
   "outputs": [
    {
     "name": "stdout",
     "output_type": "stream",
     "text": [
      "{'ID': 0}\n",
      "{'ID': 0, 'Sucursal': 0, 'Direccion': 0, 'Localidad': 0, 'Provincia': 0, 'Latitud': 0, 'Longitud': 0}\n"
     ]
    }
   ],
   "source": [
    "print(sucursales_outlier)\n",
    "print(sucursales_valor_nulo)"
   ]
  },
  {
   "cell_type": "markdown",
   "metadata": {},
   "source": [
    "### tabla venta"
   ]
  },
  {
   "cell_type": "code",
   "execution_count": 44,
   "metadata": {},
   "outputs": [],
   "source": [
    "venta_outlier = outlier(df_venta)\n",
    "venta_valor_nulo = valor_nulo(df_venta)"
   ]
  },
  {
   "cell_type": "code",
   "execution_count": 313,
   "metadata": {},
   "outputs": [
    {
     "name": "stdout",
     "output_type": "stream",
     "text": [
      "{'IdVenta': 0, 'IdCanal': 0, 'IdCliente': 0, 'IdSucursal': 0, 'IdEmpleado': 0, 'IdProducto': 0, 'Precio': 2476, 'Cantidad': 910}\n",
      "{'IdVenta': 0, 'Fecha': 0, 'Fecha_Entrega': 0, 'IdCanal': 0, 'IdCliente': 0, 'IdSucursal': 0, 'IdEmpleado': 0, 'IdProducto': 0, 'Precio': 920, 'Cantidad': 884}\n"
     ]
    }
   ],
   "source": [
    "print(venta_outlier)\n",
    "print(venta_valor_nulo)"
   ]
  },
  {
   "cell_type": "code",
   "execution_count": 339,
   "metadata": {},
   "outputs": [
    {
     "name": "stdout",
     "output_type": "stream",
     "text": [
      "[['Precio', 2476], ['Cantidad', 910]]\n",
      "[['Precio', 920], ['Cantidad', 884]]\n"
     ]
    }
   ],
   "source": [
    "vo = [[key, venta_outlier[key]] for key in venta_outlier.keys() if venta_outlier[key] > 0]\n",
    "vnan = [[key, venta_valor_nulo[key]] for key in venta_valor_nulo.keys() if venta_valor_nulo[key] > 0]\n",
    "print(vo)\n",
    "print(vnan)"
   ]
  },
  {
   "cell_type": "code",
   "execution_count": 340,
   "metadata": {},
   "outputs": [
    {
     "data": {
      "text/html": [
       "<div>\n",
       "<style scoped>\n",
       "    .dataframe tbody tr th:only-of-type {\n",
       "        vertical-align: middle;\n",
       "    }\n",
       "\n",
       "    .dataframe tbody tr th {\n",
       "        vertical-align: top;\n",
       "    }\n",
       "\n",
       "    .dataframe thead th {\n",
       "        text-align: right;\n",
       "    }\n",
       "</style>\n",
       "<table border=\"1\" class=\"dataframe\">\n",
       "  <thead>\n",
       "    <tr style=\"text-align: right;\">\n",
       "      <th></th>\n",
       "      <th>Valor</th>\n",
       "      <th>Porcentaje</th>\n",
       "    </tr>\n",
       "  </thead>\n",
       "  <tbody>\n",
       "    <tr>\n",
       "      <th>Outlier</th>\n",
       "      <td>910</td>\n",
       "      <td>1.97</td>\n",
       "    </tr>\n",
       "    <tr>\n",
       "      <th>Valor Nulo</th>\n",
       "      <td>884</td>\n",
       "      <td>1.91</td>\n",
       "    </tr>\n",
       "    <tr>\n",
       "      <th>Sin errores</th>\n",
       "      <td>44386</td>\n",
       "      <td>96.12</td>\n",
       "    </tr>\n",
       "  </tbody>\n",
       "</table>\n",
       "</div>"
      ],
      "text/plain": [
       "             Valor  Porcentaje\n",
       "Outlier        910        1.97\n",
       "Valor Nulo     884        1.91\n",
       "Sin errores  44386       96.12"
      ]
     },
     "execution_count": 340,
     "metadata": {},
     "output_type": "execute_result"
    },
    {
     "data": {
      "image/png": "[encoded data removed]",
      "text/plain": [
       "<Figure size 432x288 with 1 Axes>"
      ]
     },
     "metadata": {
      "needs_background": "light"
     },
     "output_type": "display_data"
    }
   ],
   "source": [
    "calidad_cantidad = pd.DataFrame()\n",
    "calidad_cantidad['Outlier'] =   [vo[1][1]]\n",
    "calidad_cantidad['Valor Nulo'] = [vnan[1][1]]\n",
    "calidad_cantidad['Sin errores'] = [df_venta.shape[0] - vo[1][1] - vnan[1][1]]\n",
    "plt.title('calidad_cantidad')\n",
    "graficar_transformar(calidad_cantidad)"
   ]
  }
 ],
 "metadata": {
  "kernelspec": {
   "display_name": "Python 3.10.4 64-bit",
   "language": "python",
   "name": "python3"
  },
  "language_info": {
   "codemirror_mode": {
    "name": "ipython",
    "version": 3
   },
   "file_extension": ".py",
   "mimetype": "text/x-python",
   "name": "python",
   "nbconvert_exporter": "python",
   "pygments_lexer": "ipython3",
   "version": "3.10.4"
  },
  "orig_nbformat": 4,
  "vscode": {
   "interpreter": {
    "hash": "369f2c481f4da34e4445cda3fffd2e751bd1c4d706f27375911949ba6bb62e1c"
   }
  }
 },
 "nbformat": 4,
 "nbformat_minor": 2
}
